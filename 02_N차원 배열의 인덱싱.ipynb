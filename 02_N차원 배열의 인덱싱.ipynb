{
 "cells": [
  {
   "cell_type": "code",
   "execution_count": 3,
   "id": "0d6cd2e9-9910-4821-b9da-190b2026d192",
   "metadata": {},
   "outputs": [],
   "source": [
    "import numpy as np"
   ]
  },
  {
   "cell_type": "markdown",
   "id": "efd1bf51-db7c-4bba-9f69-b332f79d8d01",
   "metadata": {
    "tags": []
   },
   "source": [
    "# 배열의 index 접근하기"
   ]
  },
  {
   "cell_type": "markdown",
   "id": "fbef07f3-8df2-4da2-b93b-235072f6bb60",
   "metadata": {},
   "source": [
    "## 1차원 배열의 index 접근"
   ]
  },
  {
   "cell_type": "code",
   "execution_count": 11,
   "id": "337e7886-b5ba-40f1-9621-61c3787b21db",
   "metadata": {},
   "outputs": [
    {
     "name": "stdout",
     "output_type": "stream",
     "text": [
      "[0 1 2 3 4 5 6 7 8 9]\n",
      "3\n",
      "1\n",
      "9\n",
      "7\n",
      "0\n"
     ]
    },
    {
     "ename": "IndexError",
     "evalue": "index 10 is out of bounds for axis 0 with size 10",
     "output_type": "error",
     "traceback": [
      "\u001b[1;31m---------------------------------------------------------------------------\u001b[0m",
      "\u001b[1;31mIndexError\u001b[0m                                Traceback (most recent call last)",
      "\u001b[1;32m~\\AppData\\Local\\Temp/ipykernel_6832/1165943549.py\u001b[0m in \u001b[0;36m<module>\u001b[1;34m\u001b[0m\n\u001b[0;32m      7\u001b[0m \u001b[0mprint\u001b[0m\u001b[1;33m(\u001b[0m\u001b[0marr\u001b[0m\u001b[1;33m[\u001b[0m\u001b[1;33m-\u001b[0m\u001b[1;36m3\u001b[0m\u001b[1;33m]\u001b[0m\u001b[1;33m)\u001b[0m  \u001b[1;31m## 0번째 인덱스에서 -3의 위치에 있는 값\u001b[0m\u001b[1;33m\u001b[0m\u001b[1;33m\u001b[0m\u001b[0m\n\u001b[0;32m      8\u001b[0m \u001b[0mprint\u001b[0m\u001b[1;33m(\u001b[0m\u001b[0marr\u001b[0m\u001b[1;33m[\u001b[0m\u001b[1;33m-\u001b[0m\u001b[1;36m10\u001b[0m\u001b[1;33m]\u001b[0m\u001b[1;33m)\u001b[0m \u001b[1;31m## 0번째 인덱스에서 -10의 위치에 있는 값\u001b[0m\u001b[1;33m\u001b[0m\u001b[1;33m\u001b[0m\u001b[0m\n\u001b[1;32m----> 9\u001b[1;33m \u001b[0mprint\u001b[0m\u001b[1;33m(\u001b[0m\u001b[0marr\u001b[0m\u001b[1;33m[\u001b[0m\u001b[1;36m10\u001b[0m\u001b[1;33m]\u001b[0m\u001b[1;33m)\u001b[0m  \u001b[1;31m## 존재하지 않는 인덱스는 에러가 난다!\u001b[0m\u001b[1;33m\u001b[0m\u001b[1;33m\u001b[0m\u001b[0m\n\u001b[0m",
      "\u001b[1;31mIndexError\u001b[0m: index 10 is out of bounds for axis 0 with size 10"
     ]
    }
   ],
   "source": [
    "arr = np.arange(10)\n",
    "print(arr)\n",
    "\n",
    "print(arr[3])   ## 인덱스 값이 3인 위치의 값\n",
    "print(arr[1])   ## 인덱스 값이 1인 위치의 값\n",
    "print(arr[-1])  ## 0번째 인덱스에서 -1의 위치에 있는 값\n",
    "print(arr[-3])  ## 0번째 인덱스에서 -3의 위치에 있는 값\n",
    "print(arr[-10]) ## 0번째 인덱스에서 -10의 위치에 있는 값\n",
    "print(arr[10])  ## 존재하지 않는 인덱스는 에러가 난다!"
   ]
  },
  {
   "cell_type": "markdown",
   "id": "3ef9e044-0a50-41bd-a19e-20c27e3a154f",
   "metadata": {},
   "source": [
    "## 2차원 배열의 index 접근"
   ]
  },
  {
   "cell_type": "code",
   "execution_count": 15,
   "id": "4380bde5-ab24-4aab-ad62-f6c3e846b735",
   "metadata": {},
   "outputs": [
    {
     "name": "stdout",
     "output_type": "stream",
     "text": [
      "[[ 1  2  3  4]\n",
      " [ 5  6  7  8]\n",
      " [ 9 10 11 12]] (3, 4) 2\n",
      "[1 2 3 4]\n",
      "1\n",
      "7\n"
     ]
    }
   ],
   "source": [
    "arr = np.array([[1, 2, 3, 4],\n",
    "                [5, 6, 7, 8],\n",
    "                [9, 10, 11, 12]])\n",
    "\n",
    "print(arr, arr.shape, arr.ndim)\n",
    "\n",
    "print(arr[0])     ## 0행\n",
    "print(arr[0][0])  ## 0행의 0열\n",
    "print(arr[1, 2])  ## 1행의 2열 ([x,y]의 형태로 지정해도 된다!)"
   ]
  },
  {
   "cell_type": "markdown",
   "id": "8c577096-2dcb-4988-a8b6-30cd09a1b537",
   "metadata": {},
   "source": [
    "## 1차원 배열에서의 탐색"
   ]
  },
  {
   "cell_type": "code",
   "execution_count": 23,
   "id": "9a952dbf-5e66-4034-87c8-3d8c9fe432ed",
   "metadata": {},
   "outputs": [
    {
     "name": "stdout",
     "output_type": "stream",
     "text": [
      "[3 4 5 6 7]\n",
      "[3 4 5 6 7 8 9]\n",
      "[0 1 2 3 4 5 6]\n",
      "[0 1 2 3 4 5 6 7 8]\n"
     ]
    }
   ],
   "source": [
    "arr = np.arange(10)\n",
    "print(arr[3:8])     ## 3번째 인덱스부터 8번째 인덱스 미만까지의 원소\n",
    "print(arr[3:])      ## 3번쨰 인덱스부터 마지막 인덱스까지의 원소\n",
    "print(arr[:7])      ## 0번째 인덱스부터 7번째 인덱스 미만까지의 원소\n",
    "print(arr[:-1])     ## 마지막 인덱스 미만까지의 모든 원소"
   ]
  },
  {
   "cell_type": "markdown",
   "id": "0e634580-561c-4300-b517-0bd1c4a9a58e",
   "metadata": {},
   "source": [
    "## 2차원 배열에서의 탐색"
   ]
  },
  {
   "cell_type": "code",
   "execution_count": 31,
   "id": "98aa0b91-7938-4ca7-b676-c981f503dfc7",
   "metadata": {},
   "outputs": [
    {
     "name": "stdout",
     "output_type": "stream",
     "text": [
      "[1 2 3 4]\n",
      "[ 2  6 10]\n",
      "[[ 1  2  3  4]\n",
      " [ 5  6  7  8]\n",
      " [ 9 10 11 12]]\n",
      "[[3 4]\n",
      " [7 8]]\n"
     ]
    }
   ],
   "source": [
    "arr = np.array([[1, 2, 3, 4],\n",
    "                [5, 6, 7, 8],\n",
    "                [9, 10, 11, 12]])\n",
    "\n",
    "print(arr[0, :])     ## 0번째 행의 모든 원소\n",
    "print(arr[:, 1])     ## 모든 행의 1번째 인덱스(열)의 원소\n",
    "print(arr[:3, :])    ## 3 미만의 행까지 모든 (열의) 원소\n",
    "print(arr[:2, 2:])   ## 2 미만의 행까지의 인덱스 2부터 마지막 인덱스까지의 원소"
   ]
  },
  {
   "cell_type": "markdown",
   "id": "35fbe830-894c-4982-84de-2ed223057c3a",
   "metadata": {},
   "source": [
    "# Fancy 인덱싱"
   ]
  },
  {
   "cell_type": "markdown",
   "id": "483c665d-7397-456d-83e4-3d99e1634b3f",
   "metadata": {},
   "source": [
    "## 1차원 배열의 Fancy 인덱싱"
   ]
  },
  {
   "cell_type": "code",
   "execution_count": 37,
   "id": "a4cb6d17-966c-4011-bfff-17213d9918cf",
   "metadata": {},
   "outputs": [
    {
     "name": "stdout",
     "output_type": "stream",
     "text": [
      "[ 5 10 15 20 25 30]\n",
      "[ 5 15 25]\n"
     ]
    }
   ],
   "source": [
    "# 특정 인덱스 여러 개를 선택해서 탐색\n",
    "\n",
    "arr = np.arange(5, 31, 5)\n",
    "print(arr)\n",
    "print(arr[[0, 2, 4]])     ## 0번째, 2번째, 4번째 원소"
   ]
  },
  {
   "cell_type": "markdown",
   "id": "1bf0de73-e095-4701-a3cc-0a6239d5ae02",
   "metadata": {},
   "source": [
    "## 2차원 배열의 Fancy 인덱싱"
   ]
  },
  {
   "cell_type": "code",
   "execution_count": 42,
   "id": "f1b88ee9-e41b-4381-8850-664da57aac22",
   "metadata": {},
   "outputs": [
    {
     "name": "stdout",
     "output_type": "stream",
     "text": [
      "[[15 20]\n",
      " [55 60]]\n",
      "[[35 40]\n",
      " [55 60]]\n"
     ]
    }
   ],
   "source": [
    "arr = np.array([[5, 10, 15, 20],\n",
    "                [25, 30, 35, 40],\n",
    "                [45, 50, 55, 60]])\n",
    "\n",
    "print(arr[[0,2], 2:])     ## 0번째, 2번째 행의 2열부터 끝까지의 원소\n",
    "print(arr[1:, [2, 3]])    ## 1행부터 끝까지의 2, 3열의 원소"
   ]
  },
  {
   "cell_type": "markdown",
   "id": "6067fcaa-32ba-401c-8679-e02692b15082",
   "metadata": {},
   "source": [
    "# Boolean 인덱싱"
   ]
  },
  {
   "cell_type": "markdown",
   "id": "0f243264-ea5a-4c51-abd8-229f997bdfda",
   "metadata": {},
   "source": [
    "## 1차원 배열의 Boolean 인덱싱"
   ]
  },
  {
   "cell_type": "code",
   "execution_count": 44,
   "id": "37bd45ad-26c2-490e-b04b-89bf11bfa7af",
   "metadata": {},
   "outputs": [
    {
     "name": "stdout",
     "output_type": "stream",
     "text": [
      "[1 3 4]\n"
     ]
    }
   ],
   "source": [
    "# True에 해당하는 값은 출력하고 False에 해당하는 값은 출력하지 않음\n",
    "\n",
    "arr = np.array([1, 2, 3, 4])\n",
    "print(arr[[True, False, True, True]])"
   ]
  },
  {
   "cell_type": "markdown",
   "id": "a044a5e1-0fe0-49aa-b2d4-54f9fe2b3ffb",
   "metadata": {},
   "source": [
    "## 2차원 배열의 Boolean 인덱싱"
   ]
  },
  {
   "cell_type": "code",
   "execution_count": 49,
   "id": "61e25c5d-7e44-4c57-aaf8-6b8544ddde29",
   "metadata": {},
   "outputs": [
    {
     "name": "stdout",
     "output_type": "stream",
     "text": [
      "[[1 2 3 4]]\n"
     ]
    }
   ],
   "source": [
    "arr = np.array([[1, 2, 3, 4],\n",
    "                [5, 6, 7, 8]])\n",
    "\n",
    "print(arr[[True, False], True]) ## 0행은 가져오고 1행은 X + 모든 열 가져옴"
   ]
  },
  {
   "cell_type": "markdown",
   "id": "59a61d85-4d58-45c8-afa4-f162b08087b1",
   "metadata": {},
   "source": [
    "## 조건연산자를 이용해서 값 가져오기"
   ]
  },
  {
   "cell_type": "code",
   "execution_count": 53,
   "id": "32da0f39-a986-4933-97b8-8b60bf0d9ebd",
   "metadata": {},
   "outputs": [
    {
     "name": "stdout",
     "output_type": "stream",
     "text": [
      "[4 5 6 7 8]\n",
      "[5 6 7 8]\n",
      "[1 2]\n"
     ]
    }
   ],
   "source": [
    "arr = np.array([[1, 2, 3, 4],\n",
    "                [5, 6, 7, 8]])\n",
    "\n",
    "print(arr[arr > 3])     ## 3보다 큰 모든 원소\n",
    "print(arr[arr > 4])     ## 4보다 큰 모든 원소\n",
    "print(arr[arr <= 2])    ## 2 이하의 모든 원소"
   ]
  }
 ],
 "metadata": {
  "kernelspec": {
   "display_name": "Python 3 (ipykernel)",
   "language": "python",
   "name": "python3"
  },
  "language_info": {
   "codemirror_mode": {
    "name": "ipython",
    "version": 3
   },
   "file_extension": ".py",
   "mimetype": "text/x-python",
   "name": "python",
   "nbconvert_exporter": "python",
   "pygments_lexer": "ipython3",
   "version": "3.9.7"
  }
 },
 "nbformat": 4,
 "nbformat_minor": 5
}
