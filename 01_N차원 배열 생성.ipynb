{
 "cells": [
  {
   "cell_type": "code",
   "execution_count": 2,
   "id": "7e03de49-7f2f-4b48-b507-3b57d9948ffa",
   "metadata": {},
   "outputs": [],
   "source": [
    "import numpy as np"
   ]
  },
  {
   "cell_type": "markdown",
   "id": "bd2d7bfa-2273-4228-8ef8-aa7c8192e7a0",
   "metadata": {},
   "source": [
    "# N차원 배열 생성하기"
   ]
  },
  {
   "cell_type": "code",
   "execution_count": 3,
   "id": "50772dc2-07ab-47a1-b1e4-2b52ffb77dfa",
   "metadata": {},
   "outputs": [
    {
     "name": "stdout",
     "output_type": "stream",
     "text": [
      "[1 2 3]\n",
      "[[1 2 3]\n",
      " [4 5 6]]\n"
     ]
    }
   ],
   "source": [
    "# 1차원 배열\n",
    "arr = np.array([1, 2, 3])\n",
    "print(arr)\n",
    "\n",
    "# 2차원 배열\n",
    "arr = np.array([[1, 2, 3],\n",
    "                [4, 5, 6]])\n",
    "print(arr)"
   ]
  },
  {
   "cell_type": "code",
   "execution_count": 4,
   "id": "098e3197-8142-4e89-b826-b0c07316656a",
   "metadata": {},
   "outputs": [
    {
     "name": "stdout",
     "output_type": "stream",
     "text": [
      "<class 'list'>\n",
      "<class 'numpy.ndarray'>\n"
     ]
    }
   ],
   "source": [
    "# 리스트와는 다르다!\n",
    "\n",
    "print(type([1, 2, 3]))\n",
    "print(type(arr))"
   ]
  },
  {
   "cell_type": "code",
   "execution_count": 5,
   "id": "0e2cb324-1a15-42ff-855c-098d2bb4b417",
   "metadata": {},
   "outputs": [
    {
     "name": "stdout",
     "output_type": "stream",
     "text": [
      "[4 5 6]\n",
      "[1 2 3]\n",
      "[[1 2 3]\n",
      " [4 5 6]]\n"
     ]
    }
   ],
   "source": [
    "# 리스트와 튜플을 사용한 배열 만들기\n",
    "\n",
    "tpl = (4, 5, 6)\n",
    "arr = np.array(tpl)\n",
    "print(arr)\n",
    "\n",
    "lst = [1, 2, 3]\n",
    "arr = np.array(lst)\n",
    "print(arr)\n",
    "\n",
    "lst2 = [[1, 2, 3], [4, 5, 6]]\n",
    "arr2 = np.array(lst2)\n",
    "print(arr2)"
   ]
  },
  {
   "cell_type": "code",
   "execution_count": 6,
   "id": "8ea5ad7c-352d-4c6a-a7f5-0e29938986e8",
   "metadata": {},
   "outputs": [
    {
     "name": "stdout",
     "output_type": "stream",
     "text": [
      "(3,) (2, 3)\n"
     ]
    }
   ],
   "source": [
    "# shape\n",
    "\n",
    "arr1 = np.array([1, 2, 3])\n",
    "arr2 = np.array([[1, 2, 3], [4, 5, 6]])\n",
    "\n",
    "print(arr1.shape, arr2.shape)"
   ]
  },
  {
   "cell_type": "code",
   "execution_count": 7,
   "id": "cd8e6622-e608-4e94-bbfa-65ad2dea8bd9",
   "metadata": {},
   "outputs": [
    {
     "name": "stdout",
     "output_type": "stream",
     "text": [
      "1\n",
      "2\n"
     ]
    }
   ],
   "source": [
    "# 차원 (ndim)\n",
    "\n",
    "print(arr1.ndim)\n",
    "print(arr2.ndim)"
   ]
  },
  {
   "cell_type": "code",
   "execution_count": 8,
   "id": "c5bba84f-d3cb-4b31-b17b-1d3209be20f6",
   "metadata": {},
   "outputs": [
    {
     "name": "stdout",
     "output_type": "stream",
     "text": [
      "3\n",
      "6\n"
     ]
    }
   ],
   "source": [
    "# size\n",
    "\n",
    "print(arr1.size)\n",
    "print(arr2.size)"
   ]
  },
  {
   "cell_type": "markdown",
   "id": "559d6e06-b8b5-485d-84f6-e9de77f14de6",
   "metadata": {},
   "source": [
    "# N차원 배열의 데이터 타입"
   ]
  },
  {
   "cell_type": "markdown",
   "id": "2daeefe8-1f34-4bde-b79a-752189afadbe",
   "metadata": {},
   "source": [
    "## dtype으로 데이터 타입 저장하기"
   ]
  },
  {
   "cell_type": "code",
   "execution_count": 9,
   "id": "c9ca7612-b872-4dba-8c92-4310a79f0a42",
   "metadata": {},
   "outputs": [
    {
     "name": "stdout",
     "output_type": "stream",
     "text": [
      "[1. 2. 3.] float64\n",
      "[1 2 3] int64\n",
      "[False  True  True] bool\n"
     ]
    }
   ],
   "source": [
    "## float\n",
    "arr = np.array([1, 2, 3], dtype=np.float64)\n",
    "print(arr, arr.dtype)\n",
    "\n",
    "## int\n",
    "arr = np.array([1.1, 2.2, 3.3], dtype=np.int64)\n",
    "print(arr, arr.dtype)\n",
    "\n",
    "## bool\n",
    "arr = np.array([0, 1, 1], dtype=np.bool_)\n",
    "print(arr, arr.dtype)"
   ]
  },
  {
   "cell_type": "markdown",
   "id": "d4fc4a4c-9f54-48de-96f1-d4fa88a18eb8",
   "metadata": {},
   "source": [
    "## DeprecationWarning"
   ]
  },
  {
   "cell_type": "code",
   "execution_count": 10,
   "id": "30edfc4d-510a-4d44-b451-bda5b376c833",
   "metadata": {},
   "outputs": [
    {
     "name": "stdout",
     "output_type": "stream",
     "text": [
      "[1. 2. 3.]\n"
     ]
    },
    {
     "name": "stderr",
     "output_type": "stream",
     "text": [
      "C:\\Users\\ringp\\AppData\\Local\\Temp/ipykernel_13260/1852176835.py:4: DeprecationWarning: `np.float` is a deprecated alias for the builtin `float`. To silence this warning, use `float` by itself. Doing this will not modify any behavior and is safe. If you specifically wanted the numpy scalar type, use `np.float64` here.\n",
      "Deprecated in NumPy 1.20; for more details and guidance: https://numpy.org/devdocs/release/1.20.0-notes.html#deprecations\n",
      "  arr = np.array([1, 2, 3], dtype=np.float)\n"
     ]
    }
   ],
   "source": [
    "# DeprecationWarning에 대해서 더 읽어보기!\n",
    "## np.를 붙이지 않고 써도 된다는 것 같다...나중에 필요해지면 다시 읽어보자!\n",
    "\n",
    "arr = np.array([1, 2, 3], dtype=np.float)\n",
    "print(arr)"
   ]
  },
  {
   "cell_type": "markdown",
   "id": "17cd8fda-82d8-48c5-be21-a504c129b1ec",
   "metadata": {},
   "source": [
    "## astype()으로 데이터 타입 변경하기"
   ]
  },
  {
   "cell_type": "code",
   "execution_count": 11,
   "id": "3cc2cbcc-0735-4a2a-b0e5-6c9089039148",
   "metadata": {},
   "outputs": [
    {
     "name": "stdout",
     "output_type": "stream",
     "text": [
      "[0 1 2 3] int32\n",
      "[0. 1. 2. 3.] float32\n"
     ]
    }
   ],
   "source": [
    "arr = np.array([0, 1, 2, 3])\n",
    "print(arr, arr.dtype)\n",
    "\n",
    "arr = arr.astype(np.float32)\n",
    "print(arr, arr.dtype)"
   ]
  },
  {
   "cell_type": "markdown",
   "id": "3183dbe6-f22e-47e6-8d0d-d119eb220f04",
   "metadata": {},
   "source": [
    "## 데이터 타입이 혼재하는 경우"
   ]
  },
  {
   "cell_type": "code",
   "execution_count": 12,
   "id": "2bcc2e3f-4787-4be9-abd3-7d5925560ff6",
   "metadata": {},
   "outputs": [
    {
     "name": "stdout",
     "output_type": "stream",
     "text": [
      "[1.  2.  3.4] float64\n",
      "['1' '2' '3.4' '64'] <U32\n",
      "[ 1  2  3 64] int64\n"
     ]
    },
    {
     "ename": "ValueError",
     "evalue": "invalid literal for int() with base 10: '문자열'",
     "output_type": "error",
     "traceback": [
      "\u001b[1;31m---------------------------------------------------------------------------\u001b[0m",
      "\u001b[1;31mValueError\u001b[0m                                Traceback (most recent call last)",
      "\u001b[1;32m~\\AppData\\Local\\Temp/ipykernel_13260/3439180599.py\u001b[0m in \u001b[0;36m<module>\u001b[1;34m\u001b[0m\n\u001b[0;32m     19\u001b[0m \u001b[1;31m# 숫자가 아닌 문자열을 int 타입으로 변결할 경우! --> 에러 발생\u001b[0m\u001b[1;33m\u001b[0m\u001b[1;33m\u001b[0m\u001b[0m\n\u001b[0;32m     20\u001b[0m \u001b[1;33m\u001b[0m\u001b[0m\n\u001b[1;32m---> 21\u001b[1;33m \u001b[0marr\u001b[0m \u001b[1;33m=\u001b[0m \u001b[0mnp\u001b[0m\u001b[1;33m.\u001b[0m\u001b[0marray\u001b[0m\u001b[1;33m(\u001b[0m\u001b[1;33m[\u001b[0m\u001b[1;36m1\u001b[0m\u001b[1;33m,\u001b[0m \u001b[1;36m2\u001b[0m\u001b[1;33m,\u001b[0m \u001b[1;36m3.4\u001b[0m\u001b[1;33m,\u001b[0m \u001b[1;34m'64'\u001b[0m\u001b[1;33m,\u001b[0m \u001b[1;34m'문자열'\u001b[0m\u001b[1;33m]\u001b[0m\u001b[1;33m,\u001b[0m \u001b[0mdtype\u001b[0m\u001b[1;33m=\u001b[0m\u001b[0mnp\u001b[0m\u001b[1;33m.\u001b[0m\u001b[0mint64\u001b[0m\u001b[1;33m)\u001b[0m\u001b[1;33m\u001b[0m\u001b[1;33m\u001b[0m\u001b[0m\n\u001b[0m\u001b[0;32m     22\u001b[0m \u001b[0mprint\u001b[0m\u001b[1;33m(\u001b[0m\u001b[0marr\u001b[0m\u001b[1;33m,\u001b[0m \u001b[0marr\u001b[0m\u001b[1;33m.\u001b[0m\u001b[0mdtype\u001b[0m\u001b[1;33m)\u001b[0m\u001b[1;33m\u001b[0m\u001b[1;33m\u001b[0m\u001b[0m\n",
      "\u001b[1;31mValueError\u001b[0m: invalid literal for int() with base 10: '문자열'"
     ]
    }
   ],
   "source": [
    "# int형과 float형이 섞여 있다면 float에 맞춰서 배열 생성\n",
    "\n",
    "arr = np.array([1, 2, 3.4])\n",
    "print(arr, arr.dtype)\n",
    "\n",
    "\n",
    "# 문자열이 있는 경우 문자열에 맞춰서(유니코드 형식으로) 배열 생성\n",
    "\n",
    "arr = np.array([1, 2, 3.4, '64'])\n",
    "print(arr, arr.dtype)\n",
    "\n",
    "\n",
    "# 숫자인 문자열이 유니코드 형식일 때 다른 데이터 타입으로 변경 가능!\n",
    "\n",
    "arr = np.array([1, 2, 3.4, '64'], dtype=np.int64)\n",
    "print(arr, arr.dtype)\n",
    "\n",
    "\n",
    "# 숫자가 아닌 문자열을 int 타입으로 변결할 경우! --> 에러 발생\n",
    "\n",
    "arr = np.array([1, 2, 3.4, '64', '문자열'], dtype=np.int64)\n",
    "print(arr, arr.dtype)"
   ]
  },
  {
   "cell_type": "markdown",
   "id": "c3208248-1e78-4429-b8d0-40c89f2d6c1b",
   "metadata": {},
   "source": [
    "# 정해진 형식의 N차원 배열 생성하기\n",
    "## zeros(), ones(), full(), eye()"
   ]
  },
  {
   "cell_type": "code",
   "execution_count": 30,
   "id": "9ff1e6c9-27f7-496e-ab65-d6be7eadfe5c",
   "metadata": {},
   "outputs": [
    {
     "name": "stdout",
     "output_type": "stream",
     "text": [
      "[[0. 0.]\n",
      " [0. 0.]]\n",
      "[[1. 1. 1. 1. 1.]\n",
      " [1. 1. 1. 1. 1.]\n",
      " [1. 1. 1. 1. 1.]]\n",
      "[[5 5 5]\n",
      " [5 5 5]]\n",
      "[[0. 1. 0. 0.]\n",
      " [0. 0. 1. 0.]\n",
      " [0. 0. 0. 1.]]\n",
      "[[1. 0. 0.]\n",
      " [0. 1. 0.]\n",
      " [0. 0. 1.]]\n"
     ]
    }
   ],
   "source": [
    "# np.zeros()로 모든 원소들이 0인 배열 생성\n",
    "\n",
    "arr = np.zeros([2,2])   # 함수의 인자로는 shape 입력!\n",
    "print(arr)\n",
    "\n",
    "\n",
    "# np.ones()로 모든 원소들이 1인 배열 생성\n",
    "\n",
    "arr = np.ones([3, 5])\n",
    "print(arr)\n",
    "\n",
    "\n",
    "# np.full()로 모든 원소들이 지정된 fill value로 이루어진 배열 생성\n",
    "\n",
    "arr = np.full((2, 3), 5)\n",
    "print(arr)\n",
    "\n",
    "\n",
    "# np.eye()로 n * m의 shape을 가진 대각원소가 1인 배열 생성\n",
    "## np.eye(n, m, k=대각원소의 발생지점)\n",
    "## np.eye(n)와 같이 n값 하나만 지정할 경우 n*n, k=0인 배열 생성\n",
    "\n",
    "arr = np.eye(3, 4, k=1)\n",
    "print(arr)\n",
    "\n",
    "arr = np.eye(3)\n",
    "print(arr)"
   ]
  },
  {
   "cell_type": "markdown",
   "id": "38d3de26-2084-4754-a60a-3e407dd1556f",
   "metadata": {},
   "source": [
    "## 지정된 배열과 동일한 shape을 가진 배열 만들기"
   ]
  },
  {
   "cell_type": "code",
   "execution_count": 37,
   "id": "d179ebd2-b69d-4663-ab5d-19d3911a756a",
   "metadata": {},
   "outputs": [
    {
     "name": "stdout",
     "output_type": "stream",
     "text": [
      "[[0 0 0]\n",
      " [0 0 0]]\n",
      "[[1 1 1]\n",
      " [1 1 1]]\n",
      "[[9 9 9]\n",
      " [9 9 9]]\n"
     ]
    }
   ],
   "source": [
    "arr = np.array([[1, 2, 3],\n",
    "                [4, 5, 6]])\n",
    "\n",
    "\n",
    "# np.zeros_like()\n",
    "\n",
    "arr_z = np.zeros_like(arr)\n",
    "print(arr_z)\n",
    "\n",
    "\n",
    "# np.ones_like()\n",
    "\n",
    "arr_o = np.ones_like(arr)\n",
    "print(arr_o)\n",
    "\n",
    "\n",
    "# np.full_like()\n",
    "\n",
    "arr_f = np.full_like(arr, 9)\n",
    "print(arr_f)"
   ]
  },
  {
   "cell_type": "markdown",
   "id": "1ee4880d-5bcc-4d36-9b5f-b8fa649736e8",
   "metadata": {},
   "source": [
    "# 특정 범위의 값을 가지는 N차원 배열 생성하기"
   ]
  },
  {
   "cell_type": "markdown",
   "id": "58aa1e4d-0af2-4ace-ab82-089659a58a18",
   "metadata": {},
   "source": [
    "## np.arange()"
   ]
  },
  {
   "cell_type": "code",
   "execution_count": 49,
   "id": "aae81f97-b030-405c-976c-760668d3dee8",
   "metadata": {},
   "outputs": [
    {
     "name": "stdout",
     "output_type": "stream",
     "text": [
      "[0, 2, 4, 6, 8]\n"
     ]
    }
   ],
   "source": [
    "# range()로 list 생성하기\n",
    "\n",
    "lst = list(range(0, 9, 2))\n",
    "print(lst)"
   ]
  },
  {
   "cell_type": "code",
   "execution_count": 50,
   "id": "4f9c4593-08bd-49f6-84e7-2c35e91d41e7",
   "metadata": {},
   "outputs": [
    {
     "name": "stdout",
     "output_type": "stream",
     "text": [
      "[0 1 2 3 4 5 6 7 8]\n",
      "[ 3  4  5  6  7  8  9 10 11]\n",
      "[ 3  6  9 12]\n",
      "[0 2 4 6 8]\n"
     ]
    }
   ],
   "source": [
    "# np.arange()로 배열 생성하기\n",
    "## np.arrange(start, stop, step)\n",
    "\n",
    "arr = np.arange(9)\n",
    "print(arr)\n",
    "\n",
    "arr = np.arange(3, 12)\n",
    "print(arr)\n",
    "\n",
    "arr = np.arange(3, 13, 3)\n",
    "print(arr)\n",
    "\n",
    "arr = np.arange(stop = 9, step = 2, start = 0)\n",
    "print(arr)"
   ]
  },
  {
   "cell_type": "markdown",
   "id": "83578bfd-69ef-4823-afb3-7022813a5ced",
   "metadata": {},
   "source": [
    "## np.linspace()"
   ]
  },
  {
   "cell_type": "code",
   "execution_count": 57,
   "id": "5c82c2aa-f50e-4409-b08b-a39e5a34f34a",
   "metadata": {},
   "outputs": [
    {
     "name": "stdout",
     "output_type": "stream",
     "text": [
      "[  0.  10.  20.  30.  40.  50.  60.  70.  80.  90. 100.]\n",
      "[  0.           1.01010101   2.02020202   3.03030303   4.04040404\n",
      "   5.05050505   6.06060606   7.07070707   8.08080808   9.09090909\n",
      "  10.1010101   11.11111111  12.12121212  13.13131313  14.14141414\n",
      "  15.15151515  16.16161616  17.17171717  18.18181818  19.19191919\n",
      "  20.2020202   21.21212121  22.22222222  23.23232323  24.24242424\n",
      "  25.25252525  26.26262626  27.27272727  28.28282828  29.29292929\n",
      "  30.3030303   31.31313131  32.32323232  33.33333333  34.34343434\n",
      "  35.35353535  36.36363636  37.37373737  38.38383838  39.39393939\n",
      "  40.4040404   41.41414141  42.42424242  43.43434343  44.44444444\n",
      "  45.45454545  46.46464646  47.47474747  48.48484848  49.49494949\n",
      "  50.50505051  51.51515152  52.52525253  53.53535354  54.54545455\n",
      "  55.55555556  56.56565657  57.57575758  58.58585859  59.5959596\n",
      "  60.60606061  61.61616162  62.62626263  63.63636364  64.64646465\n",
      "  65.65656566  66.66666667  67.67676768  68.68686869  69.6969697\n",
      "  70.70707071  71.71717172  72.72727273  73.73737374  74.74747475\n",
      "  75.75757576  76.76767677  77.77777778  78.78787879  79.7979798\n",
      "  80.80808081  81.81818182  82.82828283  83.83838384  84.84848485\n",
      "  85.85858586  86.86868687  87.87878788  88.88888889  89.8989899\n",
      "  90.90909091  91.91919192  92.92929293  93.93939394  94.94949495\n",
      "  95.95959596  96.96969697  97.97979798  98.98989899 100.        ]\n"
     ]
    }
   ],
   "source": [
    "# start값부터 stop값까지의 수들 중 균등한 간격을 가진 num개의 원소를 출력\n",
    "\n",
    "arr = np.linspace(0, 100, 11)\n",
    "print(arr)   # 지정한 stop값까지 출력 (arange는 stop값 미만까지 출력!)\n",
    "\n",
    "arr = np.linspace(0, 100, 100)\n",
    "print(arr)"
   ]
  },
  {
   "cell_type": "markdown",
   "id": "df9d979f-9b9b-4002-a487-559ac75f3de0",
   "metadata": {},
   "source": [
    "## np.logspace()"
   ]
  },
  {
   "cell_type": "code",
   "execution_count": 61,
   "id": "1804cc29-557c-4f78-ac78-2943afc17d8a",
   "metadata": {},
   "outputs": [
    {
     "name": "stdout",
     "output_type": "stream",
     "text": [
      "[ 1.  2.  3.  4.  5.  6.  7.  8.  9. 10.]\n",
      "[   2.    4.    8.   16.   32.   64.  128.  256.  512. 1024.]\n",
      "[1.e+01 1.e+02 1.e+03 1.e+04 1.e+05 1.e+06 1.e+07 1.e+08 1.e+09 1.e+10]\n"
     ]
    }
   ],
   "source": [
    "# np.linespace()와 비교해보기!\n",
    "\n",
    "arr = np.linspace(1, 10, 10)\n",
    "print(arr)\n",
    "\n",
    "\n",
    "# np.logspace()\n",
    "## np.logspace(start, stop, num, base)\n",
    "\n",
    "arr = np.logspace(1, 10, 10, base=2)\n",
    "print(arr)\n",
    "\n",
    "\n",
    "# base값을 지정하지 않으면 상용 로그 형식으로 출력\n",
    "arr = np.logspace(1, 10, 10)\n",
    "print(arr)"
   ]
  },
  {
   "cell_type": "markdown",
   "id": "684036d7-25b2-49f2-b6c8-7a3d0baade21",
   "metadata": {},
   "source": [
    "# 난수로 이루어진 N차원 배열 생성하기"
   ]
  },
  {
   "cell_type": "markdown",
   "id": "2861322a-fb1a-49f8-a4c6-1e297e918be0",
   "metadata": {},
   "source": [
    "## MatPlotLib"
   ]
  },
  {
   "cell_type": "code",
   "execution_count": 62,
   "id": "18e402a5-6177-46ab-acf7-cae93057be84",
   "metadata": {},
   "outputs": [],
   "source": [
    "import matplotlib.pyplot as plt"
   ]
  },
  {
   "cell_type": "markdown",
   "id": "78dbf5d0-0ad0-44e9-b2ce-55037982cbc0",
   "metadata": {},
   "source": [
    "## random 모듈\n",
    "### random.normal()"
   ]
  },
  {
   "cell_type": "code",
   "execution_count": 74,
   "id": "13590e7d-4a37-4d14-abdb-9adad8740d39",
   "metadata": {},
   "outputs": [
    {
     "name": "stdout",
     "output_type": "stream",
     "text": [
      "[ 0.30999134  0.37444165  2.32157918 -0.56223939 -1.28826461 -0.53801145\n",
      " -0.31892815  0.93202564  2.06647587  0.74636851]\n",
      "[[ 1.00983868 -1.08352099  0.58525458]\n",
      " [ 0.23815237 -0.71944347  2.11366645]]\n"
     ]
    }
   ],
   "source": [
    "# 정규분포의 확률밀도에서 표본 추출\n",
    "# random.normal(loc-평균, scale-표준편차, size-개수)\n",
    "\n",
    "arr = np.random.normal(0, 1, 10)\n",
    "print(arr)\n",
    "\n",
    "arr = np.random.normal(0, 1, (2, 3))  # size 부분에 shape을 넣어도 된다!\n",
    "print(arr)"
   ]
  },
  {
   "cell_type": "markdown",
   "id": "63355064-39c5-4525-b638-6a5cd2d03240",
   "metadata": {},
   "source": [
    "#### MatPlotLib으로 시각화하기"
   ]
  },
  {
   "cell_type": "code",
   "execution_count": 72,
   "id": "001a806f-5d80-4f07-816a-77ae7ad6cf39",
   "metadata": {
    "tags": []
   },
   "outputs": [
    {
     "data": {
      "image/png": "[encoded data removed]",
      "text/plain": [
       "<Figure size 432x288 with 1 Axes>"
      ]
     },
     "metadata": {
      "needs_background": "light"
     },
     "output_type": "display_data"
    }
   ],
   "source": [
    "# plt.hist(배열, bins-난수를 몇 개의 구간으로 구분할 것인지)\n",
    "\n",
    "arr = np.random.normal(0, 1, 100000)\n",
    "plt.hist(arr, bins=100)\n",
    "plt.show()"
   ]
  },
  {
   "cell_type": "markdown",
   "id": "e6bfbf84-ca2b-4b99-b283-22df853a8f2d",
   "metadata": {},
   "source": [
    "### random.rand()"
   ]
  },
  {
   "cell_type": "code",
   "execution_count": 75,
   "id": "4f500d49-efea-42b3-b8b7-2e12a0a0a216",
   "metadata": {},
   "outputs": [
    {
     "data": {
      "image/png": "[encoded data removed]",
      "text/plain": [
       "<Figure size 432x288 with 1 Axes>"
      ]
     },
     "metadata": {
      "needs_background": "light"
     },
     "output_type": "display_data"
    }
   ],
   "source": [
    "# 0에서 1 사이의 값을 균등한 비율로 추출\n",
    "# random.rand(표본 개수)\n",
    "\n",
    "arr = np.random.rand(1000)\n",
    "plt.hist(arr, bins=100)\n",
    "plt.show()"
   ]
  },
  {
   "cell_type": "markdown",
   "id": "af5fecfd-57f0-4fe7-bde2-2aaf18e37312",
   "metadata": {},
   "source": [
    "### random.randn()"
   ]
  },
  {
   "cell_type": "code",
   "execution_count": 76,
   "id": "83d822c4-7847-4555-a802-2465e5a80597",
   "metadata": {},
   "outputs": [
    {
     "data": {
      "image/png": "[encoded data removed]",
      "text/plain": [
       "<Figure size 432x288 with 1 Axes>"
      ]
     },
     "metadata": {
      "needs_background": "light"
     },
     "output_type": "display_data"
    }
   ],
   "source": [
    "# -1부터 1 사이의 값을 정규분포(가우시안분포) 표본 추출...?\n",
    "\n",
    "arr = np.random.randn(1000)\n",
    "plt.hist(arr, bins=100)\n",
    "plt.show()"
   ]
  },
  {
   "cell_type": "markdown",
   "id": "bca589bf-4b42-4c21-a69b-fad2b45d2f44",
   "metadata": {},
   "source": [
    "### random.randint()"
   ]
  },
  {
   "cell_type": "code",
   "execution_count": 103,
   "id": "ce2e5596-77f3-4c8b-b2e1-98b8872a26c7",
   "metadata": {},
   "outputs": [
    {
     "name": "stdout",
     "output_type": "stream",
     "text": [
      "[1 3 1 4 4 4 1 2 2 3]\n",
      "[[1 3 4 3]\n",
      " [3 1 2 3]\n",
      " [3 1 3 2]]\n",
      "2\n"
     ]
    }
   ],
   "source": [
    "# 랜덤한 정수를 출력\n",
    "# random.randint(low, high(미만), size(모양))\n",
    "\n",
    "arr = np.random.randint(1, 5, 10)\n",
    "print(arr)\n",
    "\n",
    "arr = np.random.randint(1, 5, (3, 4))   ## size 값에 shape 넣을 수 있음!\n",
    "print(arr)\n",
    "\n",
    "arr = np.random.randint(3)   ## 0부터 3 사이의 값(3 미만) 중 하나를 출력\n",
    "print(arr)"
   ]
  },
  {
   "cell_type": "code",
   "execution_count": 104,
   "id": "acf8d272-3d08-4ef5-a1d5-3e135f6b808a",
   "metadata": {},
   "outputs": [
    {
     "data": {
      "image/png": "[encoded data removed]",
      "text/plain": [
       "<Figure size 432x288 with 1 Axes>"
      ]
     },
     "metadata": {
      "needs_background": "light"
     },
     "output_type": "display_data"
    }
   ],
   "source": [
    "# 시각화\n",
    "\n",
    "arr = np.random.randint(100, 200, 1000)\n",
    "plt.hist(arr, bins=100)\n",
    "plt.show()"
   ]
  },
  {
   "cell_type": "markdown",
   "id": "1bbb88e4-a971-435e-8390-2a090b396aaa",
   "metadata": {},
   "source": [
    "# 시드(Seed)값을 통한 난수 생성 제어"
   ]
  },
  {
   "cell_type": "markdown",
   "id": "ea53c617-c4c2-465b-b24d-a1c4097847fe",
   "metadata": {},
   "source": [
    "## random.seed()"
   ]
  },
  {
   "cell_type": "code",
   "execution_count": 106,
   "id": "0bdd0ee2-a68a-478b-b240-d14fab97729b",
   "metadata": {},
   "outputs": [
    {
     "name": "stdout",
     "output_type": "stream",
     "text": [
      "난수 발생1 \n",
      " [0.94208482 0.63083956 0.97680063 0.21615321 0.68333306 0.31171887\n",
      " 0.11896361 0.34167167 0.85444799 0.70803932]\n",
      "난수 발생2 \n",
      " [0.82871857 0.96012352 0.91318588 0.48344213 0.06750858 0.49176777\n",
      " 0.84075521 0.85363816 0.57501929 0.78730228]\n"
     ]
    }
   ],
   "source": [
    "arr = np.random.rand(10)\n",
    "print(\"난수 발생1 \\n\", arr)\n",
    "\n",
    "arr = np.random.rand(10)\n",
    "print(\"난수 발생2 \\n\", arr)"
   ]
  },
  {
   "cell_type": "code",
   "execution_count": 108,
   "id": "41ba075d-a53b-4214-846f-a86be8f69873",
   "metadata": {},
   "outputs": [
    {
     "name": "stdout",
     "output_type": "stream",
     "text": [
      "난수 발생 1 \n",
      " [4.17022005e-01 7.20324493e-01 1.14374817e-04 3.02332573e-01\n",
      " 1.46755891e-01 9.23385948e-02 1.86260211e-01 3.45560727e-01\n",
      " 3.96767474e-01 5.38816734e-01]\n",
      "난수 발생 2 \n",
      " [4.17022005e-01 7.20324493e-01 1.14374817e-04 3.02332573e-01\n",
      " 1.46755891e-01 9.23385948e-02 1.86260211e-01 3.45560727e-01\n",
      " 3.96767474e-01 5.38816734e-01]\n"
     ]
    }
   ],
   "source": [
    "# seed값 지정으로 난수 고정하기\n",
    "## 시작점만 같으면 항상 동일한 난수가 출력됨!\n",
    "\n",
    "np.random.seed(1)\n",
    "arr = np.random.rand(10)\n",
    "print(\"난수 발생 1 \\n\", arr)\n",
    "\n",
    "np.random.seed(1)\n",
    "arr = np.random.rand(10)\n",
    "print(\"난수 발생 2 \\n\", arr)"
   ]
  }
 ],
 "metadata": {
  "kernelspec": {
   "display_name": "Python 3 (ipykernel)",
   "language": "python",
   "name": "python3"
  },
  "language_info": {
   "codemirror_mode": {
    "name": "ipython",
    "version": 3
   },
   "file_extension": ".py",
   "mimetype": "text/x-python",
   "name": "python",
   "nbconvert_exporter": "python",
   "pygments_lexer": "ipython3",
   "version": "3.9.7"
  },
  "toc-autonumbering": true
 },
 "nbformat": 4,
 "nbformat_minor": 5
}
