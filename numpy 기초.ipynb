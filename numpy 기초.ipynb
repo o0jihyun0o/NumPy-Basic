{
 "cells": [
  {
   "cell_type": "code",
   "execution_count": 1,
   "id": "7e03de49-7f2f-4b48-b507-3b57d9948ffa",
   "metadata": {},
   "outputs": [],
   "source": [
    "import numpy as np"
   ]
  },
  {
   "cell_type": "markdown",
   "id": "75dfc2fc-9f91-4803-b300-3a5e64503d64",
   "metadata": {},
   "source": [
    "# N차원 배열 생성"
   ]
  },
  {
   "cell_type": "markdown",
   "id": "bd2d7bfa-2273-4228-8ef8-aa7c8192e7a0",
   "metadata": {},
   "source": [
    "## N차원 배열 생성하기"
   ]
  },
  {
   "cell_type": "code",
   "execution_count": 3,
   "id": "50772dc2-07ab-47a1-b1e4-2b52ffb77dfa",
   "metadata": {},
   "outputs": [
    {
     "name": "stdout",
     "output_type": "stream",
     "text": [
      "[1 2 3]\n",
      "[[1 2 3]\n",
      " [4 5 6]]\n"
     ]
    }
   ],
   "source": [
    "# 1차원 배열\n",
    "arr = np.array([1, 2, 3])\n",
    "print(arr)\n",
    "\n",
    "# 2차원 배열\n",
    "arr = np.array([[1, 2, 3],\n",
    "                [4, 5, 6]])\n",
    "print(arr)"
   ]
  },
  {
   "cell_type": "code",
   "execution_count": 6,
   "id": "098e3197-8142-4e89-b826-b0c07316656a",
   "metadata": {},
   "outputs": [
    {
     "name": "stdout",
     "output_type": "stream",
     "text": [
      "<class 'list'>\n",
      "<class 'numpy.ndarray'>\n"
     ]
    }
   ],
   "source": [
    "# 리스트와는 다르다!\n",
    "\n",
    "print(type([1, 2, 3]))\n",
    "print(type(arr))"
   ]
  },
  {
   "cell_type": "code",
   "execution_count": 12,
   "id": "0e2cb324-1a15-42ff-855c-098d2bb4b417",
   "metadata": {},
   "outputs": [
    {
     "name": "stdout",
     "output_type": "stream",
     "text": [
      "[4 5 6]\n",
      "[1 2 3]\n",
      "[[1 2 3]\n",
      " [4 5 6]]\n"
     ]
    }
   ],
   "source": [
    "# 리스트와 튜플을 사용한 배열 만들기\n",
    "\n",
    "tpl = (4, 5, 6)\n",
    "arr = np.array(tpl)\n",
    "print(arr)\n",
    "\n",
    "lst = [1, 2, 3]\n",
    "arr = np.array(lst)\n",
    "print(arr)\n",
    "\n",
    "lst2 = [[1, 2, 3], [4, 5, 6]]\n",
    "arr2 = np.array(lst2)\n",
    "print(arr2)"
   ]
  },
  {
   "cell_type": "code",
   "execution_count": 15,
   "id": "8ea5ad7c-352d-4c6a-a7f5-0e29938986e8",
   "metadata": {},
   "outputs": [
    {
     "name": "stdout",
     "output_type": "stream",
     "text": [
      "(3,) (2, 3)\n"
     ]
    }
   ],
   "source": [
    "# shape\n",
    "\n",
    "arr1 = np.array([1, 2, 3])\n",
    "arr2 = np.array([[1, 2, 3], [4, 5, 6]])\n",
    "\n",
    "print(arr1.shape, arr2.shape)"
   ]
  },
  {
   "cell_type": "code",
   "execution_count": 17,
   "id": "cd8e6622-e608-4e94-bbfa-65ad2dea8bd9",
   "metadata": {},
   "outputs": [
    {
     "name": "stdout",
     "output_type": "stream",
     "text": [
      "1\n",
      "2\n"
     ]
    }
   ],
   "source": [
    "# 차원 (ndim)\n",
    "\n",
    "print(arr1.ndim)\n",
    "print(arr2.ndim)"
   ]
  },
  {
   "cell_type": "code",
   "execution_count": 18,
   "id": "c5bba84f-d3cb-4b31-b17b-1d3209be20f6",
   "metadata": {},
   "outputs": [
    {
     "name": "stdout",
     "output_type": "stream",
     "text": [
      "3\n",
      "6\n"
     ]
    }
   ],
   "source": [
    "# size\n",
    "\n",
    "print(arr1.size)\n",
    "print(arr2.size)"
   ]
  },
  {
   "cell_type": "markdown",
   "id": "559d6e06-b8b5-485d-84f6-e9de77f14de6",
   "metadata": {},
   "source": [
    "## N차원 배열의 데이터 타입"
   ]
  },
  {
   "cell_type": "markdown",
   "id": "2daeefe8-1f34-4bde-b79a-752189afadbe",
   "metadata": {},
   "source": [
    "### dtype으로 데이터 타입 저장하기"
   ]
  },
  {
   "cell_type": "code",
   "execution_count": 44,
   "id": "c9ca7612-b872-4dba-8c92-4310a79f0a42",
   "metadata": {},
   "outputs": [
    {
     "name": "stdout",
     "output_type": "stream",
     "text": [
      "[1. 2. 3.] float64\n",
      "[1 2 3] int64\n",
      "[False  True  True] bool\n"
     ]
    }
   ],
   "source": [
    "## float\n",
    "arr = np.array([1, 2, 3], dtype=np.float64)\n",
    "print(arr, arr.dtype)\n",
    "\n",
    "## int\n",
    "arr = np.array([1.1, 2.2, 3.3], dtype=np.int64)\n",
    "print(arr, arr.dtype)\n",
    "\n",
    "## bool\n",
    "arr = np.array([0, 1, 1], dtype=np.bool_)\n",
    "print(arr, arr.dtype)"
   ]
  },
  {
   "cell_type": "markdown",
   "id": "d4fc4a4c-9f54-48de-96f1-d4fa88a18eb8",
   "metadata": {},
   "source": [
    "### DeprecationWarning"
   ]
  },
  {
   "cell_type": "code",
   "execution_count": 31,
   "id": "30edfc4d-510a-4d44-b451-bda5b376c833",
   "metadata": {},
   "outputs": [
    {
     "name": "stdout",
     "output_type": "stream",
     "text": [
      "[1. 2. 3.]\n"
     ]
    },
    {
     "name": "stderr",
     "output_type": "stream",
     "text": [
      "C:\\Users\\ringp\\AppData\\Local\\Temp/ipykernel_2748/1882518240.py:3: DeprecationWarning: `np.float` is a deprecated alias for the builtin `float`. To silence this warning, use `float` by itself. Doing this will not modify any behavior and is safe. If you specifically wanted the numpy scalar type, use `np.float64` here.\n",
      "Deprecated in NumPy 1.20; for more details and guidance: https://numpy.org/devdocs/release/1.20.0-notes.html#deprecations\n",
      "  arr = np.array([1, 2, 3], dtype=np.float)\n"
     ]
    }
   ],
   "source": [
    "# DeprecationWarning에 대해서 더 읽어보기!\n",
    "## np.를 붙이지 않고 써도 된다는 것 같다...나중에 필요해지면 다시 읽어보자!\n",
    "\n",
    "arr = np.array([1, 2, 3], dtype=np.float)\n",
    "print(arr)"
   ]
  },
  {
   "cell_type": "markdown",
   "id": "17cd8fda-82d8-48c5-be21-a504c129b1ec",
   "metadata": {},
   "source": [
    "### astype()으로 데이터 타입 변경하기"
   ]
  },
  {
   "cell_type": "code",
   "execution_count": 45,
   "id": "3cc2cbcc-0735-4a2a-b0e5-6c9089039148",
   "metadata": {},
   "outputs": [
    {
     "name": "stdout",
     "output_type": "stream",
     "text": [
      "[0 1 2 3] int32\n",
      "[0. 1. 2. 3.] float32\n"
     ]
    }
   ],
   "source": [
    "arr = np.array([0, 1, 2, 3])\n",
    "print(arr, arr.dtype)\n",
    "\n",
    "arr = arr.astype(np.float32)\n",
    "print(arr, arr.dtype)"
   ]
  },
  {
   "cell_type": "markdown",
   "id": "3183dbe6-f22e-47e6-8d0d-d119eb220f04",
   "metadata": {},
   "source": [
    "### 데이터 타입이 혼재하는 경우"
   ]
  },
  {
   "cell_type": "code",
   "execution_count": 51,
   "id": "2bcc2e3f-4787-4be9-abd3-7d5925560ff6",
   "metadata": {},
   "outputs": [
    {
     "name": "stdout",
     "output_type": "stream",
     "text": [
      "[1.  2.  3.4] float64\n",
      "['1' '2' '3.4' '64'] <U32\n",
      "[ 1  2  3 64] int64\n"
     ]
    },
    {
     "ename": "ValueError",
     "evalue": "invalid literal for int() with base 10: '문자열'",
     "output_type": "error",
     "traceback": [
      "\u001b[1;31m---------------------------------------------------------------------------\u001b[0m",
      "\u001b[1;31mValueError\u001b[0m                                Traceback (most recent call last)",
      "\u001b[1;32m~\\AppData\\Local\\Temp/ipykernel_2748/3439180599.py\u001b[0m in \u001b[0;36m<module>\u001b[1;34m\u001b[0m\n\u001b[0;32m     19\u001b[0m \u001b[1;31m# 숫자가 아닌 문자열을 int 타입으로 변결할 경우! --> 에러 발생\u001b[0m\u001b[1;33m\u001b[0m\u001b[1;33m\u001b[0m\u001b[0m\n\u001b[0;32m     20\u001b[0m \u001b[1;33m\u001b[0m\u001b[0m\n\u001b[1;32m---> 21\u001b[1;33m \u001b[0marr\u001b[0m \u001b[1;33m=\u001b[0m \u001b[0mnp\u001b[0m\u001b[1;33m.\u001b[0m\u001b[0marray\u001b[0m\u001b[1;33m(\u001b[0m\u001b[1;33m[\u001b[0m\u001b[1;36m1\u001b[0m\u001b[1;33m,\u001b[0m \u001b[1;36m2\u001b[0m\u001b[1;33m,\u001b[0m \u001b[1;36m3.4\u001b[0m\u001b[1;33m,\u001b[0m \u001b[1;34m'64'\u001b[0m\u001b[1;33m,\u001b[0m \u001b[1;34m'문자열'\u001b[0m\u001b[1;33m]\u001b[0m\u001b[1;33m,\u001b[0m \u001b[0mdtype\u001b[0m\u001b[1;33m=\u001b[0m\u001b[0mnp\u001b[0m\u001b[1;33m.\u001b[0m\u001b[0mint64\u001b[0m\u001b[1;33m)\u001b[0m\u001b[1;33m\u001b[0m\u001b[1;33m\u001b[0m\u001b[0m\n\u001b[0m\u001b[0;32m     22\u001b[0m \u001b[0mprint\u001b[0m\u001b[1;33m(\u001b[0m\u001b[0marr\u001b[0m\u001b[1;33m,\u001b[0m \u001b[0marr\u001b[0m\u001b[1;33m.\u001b[0m\u001b[0mdtype\u001b[0m\u001b[1;33m)\u001b[0m\u001b[1;33m\u001b[0m\u001b[1;33m\u001b[0m\u001b[0m\n",
      "\u001b[1;31mValueError\u001b[0m: invalid literal for int() with base 10: '문자열'"
     ]
    }
   ],
   "source": [
    "# int형과 float형이 섞여 있다면 float에 맞춰서 배열 생성\n",
    "\n",
    "arr = np.array([1, 2, 3.4])\n",
    "print(arr, arr.dtype)\n",
    "\n",
    "\n",
    "# 문자열이 있는 경우 문자열에 맞춰서(유니코드 형식으로) 배열 생성\n",
    "\n",
    "arr = np.array([1, 2, 3.4, '64'])\n",
    "print(arr, arr.dtype)\n",
    "\n",
    "\n",
    "# 숫자인 문자열이 유니코드 형식일 때 다른 데이터 타입으로 변경 가능!\n",
    "\n",
    "arr = np.array([1, 2, 3.4, '64'], dtype=np.int64)\n",
    "print(arr, arr.dtype)\n",
    "\n",
    "\n",
    "# 숫자가 아닌 문자열을 int 타입으로 변결할 경우! --> 에러 발생\n",
    "\n",
    "arr = np.array([1, 2, 3.4, '64', '문자열'], dtype=np.int64)\n",
    "print(arr, arr.dtype)"
   ]
  },
  {
   "cell_type": "code",
   "execution_count": null,
   "id": "0f05b1eb-885c-4108-b23b-7f0d61d5310d",
   "metadata": {},
   "outputs": [],
   "source": []
  },
  {
   "cell_type": "markdown",
   "id": "c3208248-1e78-4429-b8d0-40c89f2d6c1b",
   "metadata": {},
   "source": [
    "## 정해진 형식의 N차원 배열 생성하기"
   ]
  },
  {
   "cell_type": "code",
   "execution_count": null,
   "id": "9ff1e6c9-27f7-496e-ab65-d6be7eadfe5c",
   "metadata": {},
   "outputs": [],
   "source": []
  },
  {
   "cell_type": "markdown",
   "id": "1ee4880d-5bcc-4d36-9b5f-b8fa649736e8",
   "metadata": {},
   "source": [
    "## 특정 범위의 값을 가지는 N차원 배열 생성하기"
   ]
  },
  {
   "cell_type": "code",
   "execution_count": null,
   "id": "aae81f97-b030-405c-976c-760668d3dee8",
   "metadata": {},
   "outputs": [],
   "source": []
  },
  {
   "cell_type": "markdown",
   "id": "684036d7-25b2-49f2-b6c8-7a3d0baade21",
   "metadata": {},
   "source": [
    "## 난수로 이루어진 N차원 배열 생성하기"
   ]
  },
  {
   "cell_type": "code",
   "execution_count": null,
   "id": "26bf5529-7f60-4ead-a979-327dc03841af",
   "metadata": {},
   "outputs": [],
   "source": []
  },
  {
   "cell_type": "markdown",
   "id": "1bbb88e4-a971-435e-8390-2a090b396aaa",
   "metadata": {},
   "source": [
    "## 시드(Seed)값을 통한 난수 생성 제어"
   ]
  },
  {
   "cell_type": "code",
   "execution_count": null,
   "id": "d57c3344-8ada-4615-8217-68e5609b2881",
   "metadata": {},
   "outputs": [],
   "source": []
  }
 ],
 "metadata": {
  "kernelspec": {
   "display_name": "Python 3 (ipykernel)",
   "language": "python",
   "name": "python3"
  },
  "language_info": {
   "codemirror_mode": {
    "name": "ipython",
    "version": 3
   },
   "file_extension": ".py",
   "mimetype": "text/x-python",
   "name": "python",
   "nbconvert_exporter": "python",
   "pygments_lexer": "ipython3",
   "version": "3.9.7"
  }
 },
 "nbformat": 4,
 "nbformat_minor": 5
}
