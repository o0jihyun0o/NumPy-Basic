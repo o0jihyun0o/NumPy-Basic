{
 "cells": [
  {
   "cell_type": "code",
   "execution_count": 1,
   "id": "b479b75e-46c1-4b7e-b89f-51fac7790f7d",
   "metadata": {},
   "outputs": [],
   "source": [
    "import numpy as np"
   ]
  },
  {
   "cell_type": "markdown",
   "id": "75c8dcac-685c-4c1e-9161-10874fce754b",
   "metadata": {},
   "source": [
    "# 배열의 연산 - 1"
   ]
  },
  {
   "cell_type": "code",
   "execution_count": 6,
   "id": "e7a75847-ab0c-4f48-ac63-6657fd5f6d01",
   "metadata": {},
   "outputs": [
    {
     "name": "stdout",
     "output_type": "stream",
     "text": [
      "[[1 2 3]\n",
      " [4 5 6]\n",
      " [7 8 9]]\n",
      "[[2 2 2]\n",
      " [2 2 2]\n",
      " [2 2 2]]\n"
     ]
    }
   ],
   "source": [
    "# 사칙연산, 제곱, 제곱근, 나머지, 몫\n",
    "\n",
    "arr1 = np.array([[1, 2, 3],\n",
    "                 [4, 5, 6],\n",
    "                 [7, 8, 9]])\n",
    "arr2 = np.full_like(arr1, 2)\n",
    "\n",
    "print(arr1)\n",
    "print(arr2)"
   ]
  },
  {
   "cell_type": "markdown",
   "id": "e8ae38a1-3723-4ebc-b5e2-e767d776d733",
   "metadata": {},
   "source": [
    "## 사칙연산"
   ]
  },
  {
   "cell_type": "code",
   "execution_count": 15,
   "id": "e51525b9-b5bc-4e28-9f06-9353bf20dc27",
   "metadata": {},
   "outputs": [
    {
     "name": "stdout",
     "output_type": "stream",
     "text": [
      "[[ 3  4  5]\n",
      " [ 6  7  8]\n",
      " [ 9 10 11]]\n",
      "[[ 3  4  5]\n",
      " [ 6  7  8]\n",
      " [ 9 10 11]]\n"
     ]
    }
   ],
   "source": [
    "# 덧셈\n",
    "\n",
    "print(arr1 + arr2)\n",
    "print(np.add(arr1, arr2))       ## np 모듈의 add() 함수를 사용"
   ]
  },
  {
   "cell_type": "code",
   "execution_count": 16,
   "id": "5be4d608-6159-4c56-802e-1ece52b2105e",
   "metadata": {},
   "outputs": [
    {
     "name": "stdout",
     "output_type": "stream",
     "text": [
      "[[-1  0  1]\n",
      " [ 2  3  4]\n",
      " [ 5  6  7]]\n",
      "[[-1  0  1]\n",
      " [ 2  3  4]\n",
      " [ 5  6  7]]\n"
     ]
    }
   ],
   "source": [
    "# 뺄셈\n",
    "\n",
    "print(arr1 - arr2)\n",
    "print(np.subtract(arr1, arr2))  ## np 모듈의 subtract() 함수를 사용"
   ]
  },
  {
   "cell_type": "code",
   "execution_count": 17,
   "id": "86509cd9-be49-4532-836a-f9c01e670250",
   "metadata": {},
   "outputs": [
    {
     "name": "stdout",
     "output_type": "stream",
     "text": [
      "[[ 2  4  6]\n",
      " [ 8 10 12]\n",
      " [14 16 18]]\n",
      "[[ 2  4  6]\n",
      " [ 8 10 12]\n",
      " [14 16 18]]\n"
     ]
    }
   ],
   "source": [
    "# 곱셈 (원소 단위의 곱셈의 결과 출력!)\n",
    "\n",
    "print(arr1 * arr2)\n",
    "print(np.multiply(arr1, arr2))  ## np 모듈의 multiply() 함수 사용"
   ]
  },
  {
   "cell_type": "code",
   "execution_count": 18,
   "id": "0be5c815-70ba-4015-a684-746ba613e18e",
   "metadata": {},
   "outputs": [
    {
     "name": "stdout",
     "output_type": "stream",
     "text": [
      "[[0.5 1.  1.5]\n",
      " [2.  2.5 3. ]\n",
      " [3.5 4.  4.5]]\n",
      "[[0.5 1.  1.5]\n",
      " [2.  2.5 3. ]\n",
      " [3.5 4.  4.5]]\n"
     ]
    }
   ],
   "source": [
    "# 나눗셈\n",
    "\n",
    "print(arr1 / arr2)\n",
    "print(np.divide(arr1, arr2))    ## np 모듈의 divide() 함수 사용"
   ]
  },
  {
   "cell_type": "markdown",
   "id": "24646bf2-c52d-4912-a7fb-a9f85f3a9e66",
   "metadata": {},
   "source": [
    "## 제곱과 제곱근"
   ]
  },
  {
   "cell_type": "code",
   "execution_count": 26,
   "id": "ae3ae2c9-2043-48f3-b9a7-75594a3251d0",
   "metadata": {},
   "outputs": [
    {
     "name": "stdout",
     "output_type": "stream",
     "text": [
      "[[1 2 3]\n",
      " [4 5 6]\n",
      " [7 8 9]]\n",
      "[[2 2 2]\n",
      " [2 2 2]\n",
      " [2 2 2]]\n"
     ]
    }
   ],
   "source": [
    "arr1 = np.array([[1, 2, 3],\n",
    "                 [4, 5, 6],\n",
    "                 [7, 8, 9]])\n",
    "arr2 = np.full_like(arr1, 2)\n",
    "\n",
    "print(arr1)\n",
    "print(arr2)"
   ]
  },
  {
   "cell_type": "code",
   "execution_count": 28,
   "id": "3c755955-6568-47e6-8b94-c3b25394f77e",
   "metadata": {},
   "outputs": [
    {
     "name": "stdout",
     "output_type": "stream",
     "text": [
      "[[ 1  4  9]\n",
      " [16 25 36]\n",
      " [49 64 81]]\n",
      "[[ 1  4  9]\n",
      " [16 25 36]\n",
      " [49 64 81]]\n"
     ]
    }
   ],
   "source": [
    "# 제곱\n",
    "\n",
    "print(arr1 ** 2)\n",
    "print(np.square(arr1))     ## np 모듈의 square() 함수로 자기 자신을 제곱한 값 출력"
   ]
  },
  {
   "cell_type": "code",
   "execution_count": 31,
   "id": "4338723d-7953-47ae-8313-8ae8e458dee3",
   "metadata": {},
   "outputs": [
    {
     "name": "stdout",
     "output_type": "stream",
     "text": [
      "[[1.         1.41421356 1.73205081]\n",
      " [2.         2.23606798 2.44948974]\n",
      " [2.64575131 2.82842712 3.        ]]\n"
     ]
    }
   ],
   "source": [
    "# 제곱근\n",
    "\n",
    "print(np.sqrt(arr1))   ## np 모듈의 sqrt() 함수 사용 --> sqrt = square root"
   ]
  },
  {
   "cell_type": "markdown",
   "id": "23232311-8cff-4897-b8e3-0449c8d85685",
   "metadata": {},
   "source": [
    "## 몫과 나머지"
   ]
  },
  {
   "cell_type": "code",
   "execution_count": 33,
   "id": "f3cb9021-046e-4598-afe9-633c1e7cfbff",
   "metadata": {},
   "outputs": [
    {
     "name": "stdout",
     "output_type": "stream",
     "text": [
      "[[0 1 1]\n",
      " [2 2 3]\n",
      " [3 4 4]]\n",
      "[[1 0 1]\n",
      " [0 1 0]\n",
      " [1 0 1]]\n"
     ]
    }
   ],
   "source": [
    "# 몫\n",
    "\n",
    "print(arr1 // 2)\n",
    "\n",
    "\n",
    "# 나머지\n",
    "\n",
    "print(arr1 % 2)"
   ]
  },
  {
   "cell_type": "markdown",
   "id": "6bdc25ca-bac3-4774-97ff-63afa28f08e2",
   "metadata": {},
   "source": [
    "# 배열의 연산 - 2"
   ]
  },
  {
   "cell_type": "markdown",
   "id": "a69ab345-8a93-4797-8a2e-b0eb78b7b2c5",
   "metadata": {},
   "source": [
    "## 내적 연산 (dot product)"
   ]
  },
  {
   "cell_type": "code",
   "execution_count": 43,
   "id": "e382b3ea-e0b8-48a3-8615-50369a060ddc",
   "metadata": {},
   "outputs": [],
   "source": [
    "# np.dot()\n",
    "##두 벡터(행렬)을 곱했을 때 결과값이 스칼라..? 값이 나오는 것"
   ]
  },
  {
   "cell_type": "markdown",
   "id": "eba8d76a-34a9-421f-9e29-e202f5509bed",
   "metadata": {},
   "source": [
    "### 1차원 행렬의 내적 연산"
   ]
  },
  {
   "cell_type": "code",
   "execution_count": 40,
   "id": "215528d7-f70f-4ff4-9551-6bdb67643e27",
   "metadata": {},
   "outputs": [
    {
     "name": "stdout",
     "output_type": "stream",
     "text": [
      "20\n"
     ]
    }
   ],
   "source": [
    "arr1 = np.array([2, 3, 4])\n",
    "arr2 = np.array([1, 2, 3])\n",
    "\n",
    "print(np.dot(arr1, arr2))   ## 2*1 + 3*2 + 4*3"
   ]
  },
  {
   "cell_type": "markdown",
   "id": "f1d81055-92fc-4216-a86e-636ef4d8bfdc",
   "metadata": {},
   "source": [
    "### 2차원 행렬의 내적 연산"
   ]
  },
  {
   "cell_type": "code",
   "execution_count": 41,
   "id": "0362302b-fb1f-46e7-9a2b-41b235125e62",
   "metadata": {},
   "outputs": [
    {
     "name": "stdout",
     "output_type": "stream",
     "text": [
      "[[ 1  8]\n",
      " [ 4 23]]\n"
     ]
    }
   ],
   "source": [
    "'''\n",
    "[[a, b]      [[e, f]            [[ae + bg, af + bh]\n",
    " [c, d]]      [g, h]]    =>      [ce + dg, cf + dh]]\n",
    "'''\n",
    "\n",
    "arr1 = np.array([[1, 2],\n",
    "                 [4, 5]])\n",
    "arr2 = np.array([[1, 2],\n",
    "                 [0, 3]])\n",
    "\n",
    "print(np.dot(arr1, arr2))"
   ]
  },
  {
   "cell_type": "markdown",
   "id": "851b7b72-6ff0-4a31-be48-4564d40abb1d",
   "metadata": {},
   "source": [
    "## 절댓값"
   ]
  },
  {
   "cell_type": "code",
   "execution_count": 44,
   "id": "5f97f093-7d17-4b12-aeb5-da049f234c45",
   "metadata": {},
   "outputs": [
    {
     "name": "stdout",
     "output_type": "stream",
     "text": [
      "[[1 2]\n",
      " [4 5]]\n"
     ]
    }
   ],
   "source": [
    "# np.abs()\n",
    "\n",
    "arr1 = np.array([[1, -2],\n",
    "                 [-4, 5]])\n",
    "\n",
    "print(np.abs(arr1))"
   ]
  },
  {
   "cell_type": "markdown",
   "id": "7309da9c-9678-4aaf-b85a-ecf756a78f13",
   "metadata": {},
   "source": [
    "## 올림, 내림, 반올림, 버림"
   ]
  },
  {
   "cell_type": "code",
   "execution_count": 49,
   "id": "25c5f5ab-ce73-452f-b0ae-9093f18cfed5",
   "metadata": {},
   "outputs": [
    {
     "name": "stdout",
     "output_type": "stream",
     "text": [
      "[[ 2. -2.]\n",
      " [-4.  6.]]\n",
      "[[ 1. -3.]\n",
      " [-5.  5.]]\n",
      "[[ 2. -2.]\n",
      " [-4.  5.]]\n",
      "[[ 1. -2.]\n",
      " [-4.  5.]]\n"
     ]
    }
   ],
   "source": [
    "arr1 = np.array([[1.932, -2.339],\n",
    "                 [-4.145, 5.296]])\n",
    "\n",
    "\n",
    "# np.ceil()로 올림 연산\n",
    "print(np.ceil(arr1))\n",
    "\n",
    "\n",
    "# np.floor()로 내림 연산\n",
    "print(np.floor(arr1))\n",
    "\n",
    "\n",
    "# np.round()로 반올림 연산\n",
    "print(np.round(arr1))\n",
    "\n",
    "\n",
    "# np.trunc()로 버림\n",
    "print(np.trunc(arr1))"
   ]
  },
  {
   "cell_type": "markdown",
   "id": "9fa7448b-b82f-48ae-aa0d-00713fff552d",
   "metadata": {},
   "source": [
    "# 배열의 연산 - 3"
   ]
  },
  {
   "cell_type": "markdown",
   "id": "dbf2e758-b6ad-4d28-a951-6a213d421008",
   "metadata": {},
   "source": [
    "## min(), max()"
   ]
  },
  {
   "cell_type": "code",
   "execution_count": 53,
   "id": "e303eaa3-d7a2-45df-a8c0-648ddcc6ac5e",
   "metadata": {},
   "outputs": [],
   "source": [
    "arr = np.array([[1, 2, 3],\n",
    "                [0, 1, 4]])"
   ]
  },
  {
   "cell_type": "code",
   "execution_count": 56,
   "id": "26fc874e-7e8a-4c71-9b97-47f4b4f94391",
   "metadata": {},
   "outputs": [
    {
     "name": "stdout",
     "output_type": "stream",
     "text": [
      "0\n",
      "0\n",
      "4\n",
      "4\n"
     ]
    }
   ],
   "source": [
    "# np.min()\n",
    "print(np.min(arr))\n",
    "print(arr.min())\n",
    "\n",
    "# np.max()\n",
    "print(np.max(arr))\n",
    "print(arr.max())"
   ]
  },
  {
   "cell_type": "code",
   "execution_count": 62,
   "id": "c233c38e-d16b-413d-aff9-c64a0074744b",
   "metadata": {},
   "outputs": [
    {
     "name": "stdout",
     "output_type": "stream",
     "text": [
      "[0 1 3]\n",
      "[1 0]\n",
      "[1 2 4]\n",
      "[3 4]\n"
     ]
    }
   ],
   "source": [
    "# axis 값 지정하기\n",
    "\n",
    "print(arr.min(axis=0))     ## axis=0 은 열별 최소값 반환\n",
    "print(arr.min(axis=1))     ## axis=1 은 행별 최소값 반환\n",
    "\n",
    "print(arr.max(axis=0))     ## axis=0 은 열별 최대값 반환\n",
    "print(arr.max(axis=1))     ## axis=1 은 행별 최대값 반환"
   ]
  },
  {
   "cell_type": "markdown",
   "id": "1876f905-2edd-4596-bcca-db890cc5f96c",
   "metadata": {},
   "source": [
    "## sum(), mean()"
   ]
  },
  {
   "cell_type": "code",
   "execution_count": 79,
   "id": "7a81d197-0f94-4219-b6d2-a639ceb48e9a",
   "metadata": {},
   "outputs": [],
   "source": [
    "arr = np.array([[1, 2, 3],\n",
    "                [0, 1, 4]])"
   ]
  },
  {
   "cell_type": "code",
   "execution_count": 73,
   "id": "ac41989e-bfec-4278-b705-fc8a017e28d9",
   "metadata": {},
   "outputs": [
    {
     "name": "stdout",
     "output_type": "stream",
     "text": [
      "11\n",
      "11\n",
      "[1 3 7]\n",
      "[1 3 7]\n",
      "[6 5]\n",
      "[6 5]\n"
     ]
    }
   ],
   "source": [
    "# np.sum()\n",
    "\n",
    "print(np.sum(arr))\n",
    "print(arr.sum())\n",
    "\n",
    "\n",
    "# axis 지정\n",
    "\n",
    "print(arr.sum(axis=0))\n",
    "print(arr.sum(0))\n",
    "\n",
    "print(arr.sum(axis=1))\n",
    "print(arr.sum(1))"
   ]
  },
  {
   "cell_type": "code",
   "execution_count": 74,
   "id": "ed75c9ae-45b6-4263-a361-e58a6b347187",
   "metadata": {},
   "outputs": [
    {
     "name": "stdout",
     "output_type": "stream",
     "text": [
      "1.8333333333333333\n",
      "1.8333333333333333\n",
      "[0.5 1.5 3.5]\n",
      "[2.         1.66666667]\n"
     ]
    }
   ],
   "source": [
    "# np.mean()\n",
    "\n",
    "print(np.mean(arr))\n",
    "print(arr.mean())\n",
    "\n",
    "\n",
    "# axis 지정\n",
    "\n",
    "print(arr.mean(0))\n",
    "print(arr.mean(1))"
   ]
  },
  {
   "cell_type": "markdown",
   "id": "9779fe17-abe0-4bd3-a24b-2aca4d23e245",
   "metadata": {},
   "source": [
    "## std(), cumsum()"
   ]
  },
  {
   "cell_type": "code",
   "execution_count": 80,
   "id": "5d811545-0984-40a0-b0bf-384e6a942a68",
   "metadata": {},
   "outputs": [],
   "source": [
    "arr = np.array([[1, 2, 3],\n",
    "                [0, 1, 4]])"
   ]
  },
  {
   "cell_type": "code",
   "execution_count": 75,
   "id": "46276ba0-8abe-40e1-803a-023da0401c6c",
   "metadata": {},
   "outputs": [
    {
     "name": "stdout",
     "output_type": "stream",
     "text": [
      "1.343709624716425\n",
      "1.343709624716425\n",
      "[0.5 0.5 0.5]\n",
      "[0.81649658 1.69967317]\n"
     ]
    }
   ],
   "source": [
    "# np.std() --> 표준편차\n",
    "\n",
    "print(np.std(arr))\n",
    "print(arr.std())\n",
    "\n",
    "\n",
    "# axis 지정\n",
    "\n",
    "print(arr.std(0))\n",
    "print(arr.std(1))"
   ]
  },
  {
   "cell_type": "code",
   "execution_count": 78,
   "id": "1b491afb-caf5-474c-ba25-0f6eb7420f71",
   "metadata": {},
   "outputs": [
    {
     "name": "stdout",
     "output_type": "stream",
     "text": [
      "[ 1  3  6  6  7 11]\n",
      "[ 1  3  6  6  7 11]\n",
      "[[1 2 3]\n",
      " [1 3 7]]\n",
      "[[1 3 6]\n",
      " [0 1 5]]\n"
     ]
    }
   ],
   "source": [
    "# np.cumsum() --> 누적값 계산 (cumulative sum)\n",
    "\n",
    "print(np.cumsum(arr))\n",
    "print(arr.cumsum())\n",
    "\n",
    "\n",
    "# axis 지정\n",
    "\n",
    "print(arr.cumsum(0))\n",
    "print(arr.cumsum(1))"
   ]
  },
  {
   "cell_type": "markdown",
   "id": "03e26177-8dac-47a9-a8b6-9aea849c069e",
   "metadata": {},
   "source": [
    "## median()"
   ]
  },
  {
   "cell_type": "code",
   "execution_count": 91,
   "id": "330855ee-066e-4782-810b-8b58f59508f2",
   "metadata": {},
   "outputs": [],
   "source": [
    "arr = np.array([[1, 2, 3],\n",
    "                [0, 1, 4],\n",
    "                [1, 5, 2]])"
   ]
  },
  {
   "cell_type": "code",
   "execution_count": 94,
   "id": "7a91845f-1f0e-4dc7-878a-9deb5509df00",
   "metadata": {},
   "outputs": [
    {
     "name": "stdout",
     "output_type": "stream",
     "text": [
      "2.0\n",
      "[1. 2. 3.]\n",
      "[2. 1. 2.]\n"
     ]
    }
   ],
   "source": [
    "# np.median() --> 중앙값\n",
    "\n",
    "print(np.median(arr))\n",
    "\n",
    "\n",
    "# axis 지정\n",
    "\n",
    "print(np.median(arr, axis=0))\n",
    "print(np.median(arr, axis=1))"
   ]
  },
  {
   "cell_type": "code",
   "execution_count": 93,
   "id": "73e30792-ebed-44e6-839e-aa687c7ea689",
   "metadata": {},
   "outputs": [
    {
     "ename": "AttributeError",
     "evalue": "'numpy.ndarray' object has no attribute 'median'",
     "output_type": "error",
     "traceback": [
      "\u001b[1;31m---------------------------------------------------------------------------\u001b[0m",
      "\u001b[1;31mAttributeError\u001b[0m                            Traceback (most recent call last)",
      "\u001b[1;32m~\\AppData\\Local\\Temp/ipykernel_10816/2955457475.py\u001b[0m in \u001b[0;36m<module>\u001b[1;34m\u001b[0m\n\u001b[0;32m      1\u001b[0m \u001b[1;31m# 배열.median() 형태로 사용하면 오류가 난다!\u001b[0m\u001b[1;33m\u001b[0m\u001b[1;33m\u001b[0m\u001b[0m\n\u001b[0;32m      2\u001b[0m \u001b[1;33m\u001b[0m\u001b[0m\n\u001b[1;32m----> 3\u001b[1;33m \u001b[0mprint\u001b[0m\u001b[1;33m(\u001b[0m\u001b[0marr\u001b[0m\u001b[1;33m.\u001b[0m\u001b[0mmedian\u001b[0m\u001b[1;33m(\u001b[0m\u001b[1;33m)\u001b[0m\u001b[1;33m)\u001b[0m\u001b[1;33m\u001b[0m\u001b[1;33m\u001b[0m\u001b[0m\n\u001b[0m",
      "\u001b[1;31mAttributeError\u001b[0m: 'numpy.ndarray' object has no attribute 'median'"
     ]
    }
   ],
   "source": [
    "# 배열.median() 형태로 사용하면 오류가 난다!\n",
    "\n",
    "print(arr.median())"
   ]
  },
  {
   "cell_type": "markdown",
   "id": "9ffb04b3-d961-4d76-b052-ff26331b4ee9",
   "metadata": {},
   "source": [
    "# 배열의 연산 - 4"
   ]
  },
  {
   "cell_type": "code",
   "execution_count": null,
   "id": "360b2fd3-5471-4ee1-a4f6-024061764833",
   "metadata": {},
   "outputs": [],
   "source": []
  },
  {
   "cell_type": "code",
   "execution_count": null,
   "id": "767e69b1-1828-43d5-9d97-726f3341a9d8",
   "metadata": {},
   "outputs": [],
   "source": []
  },
  {
   "cell_type": "markdown",
   "id": "d3a2ef13-e144-45f7-a274-18a6cc7caa2c",
   "metadata": {},
   "source": [
    "# 브로드캐스팅(Broadcasting)"
   ]
  },
  {
   "cell_type": "code",
   "execution_count": 2,
   "id": "7919f1cb-a594-4827-982a-36726efed126",
   "metadata": {},
   "outputs": [],
   "source": [
    "# Shape이 다른 배열의 연산"
   ]
  },
  {
   "cell_type": "code",
   "execution_count": null,
   "id": "3758163a-6fd9-460c-bc44-8fa1794288e1",
   "metadata": {},
   "outputs": [],
   "source": []
  },
  {
   "cell_type": "markdown",
   "id": "e3387010-30ee-42d5-8ae8-4247d952ca1d",
   "metadata": {},
   "source": [
    "# 벡터 연산의 장점"
   ]
  },
  {
   "cell_type": "code",
   "execution_count": null,
   "id": "944a593c-64d5-4d5a-a42b-d58465ab834b",
   "metadata": {},
   "outputs": [],
   "source": []
  },
  {
   "cell_type": "code",
   "execution_count": null,
   "id": "e3b55aff-22e6-4ada-b022-330c8ca2cc75",
   "metadata": {},
   "outputs": [],
   "source": []
  }
 ],
 "metadata": {
  "kernelspec": {
   "display_name": "Python 3 (ipykernel)",
   "language": "python",
   "name": "python3"
  },
  "language_info": {
   "codemirror_mode": {
    "name": "ipython",
    "version": 3
   },
   "file_extension": ".py",
   "mimetype": "text/x-python",
   "name": "python",
   "nbconvert_exporter": "python",
   "pygments_lexer": "ipython3",
   "version": "3.9.7"
  }
 },
 "nbformat": 4,
 "nbformat_minor": 5
}
